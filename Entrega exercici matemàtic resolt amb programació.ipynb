{
 "cells": [
  {
   "cell_type": "code",
   "execution_count": 19,
   "id": "b4798265-f09a-4ade-8d15-157fb6ea0cad",
   "metadata": {
    "jupyter": {
     "source_hidden": true
    }
   },
   "outputs": [
    {
     "name": "stdout",
     "output_type": "stream",
     "text": [
      "\n",
      "La temperatura d'una planxa de metall plana ve donada per la funció\n",
      "         T(x,y)=(100)/((x**2)+(y^2)-(2*x)-(2*y)+6)\n",
      "\n",
      "(a) Quina és la temperatura del punt P=(0,0) i en quina direcció va el flux de calor en aquest punt?\n",
      "(b) On es troba la font de calor (és a dir el punt de temperatura màxima) i quina és la seva temperatura?\n",
      "(c) Quins són els punts del cercle x^2+y^2 ≤ 1 amb temperatura màxima i mínima?\n",
      "\n"
     ]
    }
   ],
   "source": [
    "Exercici1='''\n",
    "La temperatura d'una planxa de metall plana ve donada per la funció\n",
    "         T(x,y)=(100)/((x**2)+(y^2)-(2*x)-(2*y)+6)\n",
    "\n",
    "(a) Quina és la temperatura del punt P=(0,0) i en quina direcció va el flux de calor en aquest punt?\n",
    "(b) On es troba la font de calor (és a dir el punt de temperatura màxima) i quina és la seva temperatura?\n",
    "(c) Quins són els punts del cercle x^2+y^2 ≤ 1 amb temperatura màxima i mínima?\n",
    "'''\n",
    "print(Exercici1)\n",
    "\n",
    "\n",
    "\n",
    "#Importo diferents llibreries i començo a definir les variables i la funció de la temperatura\n",
    "import sympy as sp\n",
    "import numpy as np\n",
    "import matplotlib.pyplot as plt\n",
    "from colorama import Fore, Style\n",
    "\n",
    "''' Definim què són variables '''\n",
    "x, y = sp.symbols('x y')\n",
    "\n",
    "''' Defineixo la funció de temperatura '''\n",
    "T_funcio = 100 / ((x**2) + (y**2) - (2*x) - (2*y) + 6)"
   ]
  },
  {
   "cell_type": "code",
   "execution_count": 3,
   "id": "811aa858-69f0-401d-ad07-8d499125bb2b",
   "metadata": {},
   "outputs": [
    {
     "name": "stdout",
     "output_type": "stream",
     "text": [
      "\n",
      "                           RESULTATS DE L'APARTAT (a)                           \n",
      "La temperatura del punt P(0,0) és 50/3 i la direcció del flux és [sqrt(2)/2, sqrt(2)/2]\n",
      "\n"
     ]
    }
   ],
   "source": [
    "# Primer apartat\n",
    "T_P=T_funcio.subs({x:0, y:0})                                #Evaluem la funció en el punt que ens han donat, només hem de definir el valor de les variables (x:0,y:0)\n",
    "\n",
    "gradient_T=[sp.diff(T_funcio, x), sp.diff(T_funcio, y)]      #Fem el gradient de la funció temperatura, és a dir, les derivades parcials per cada direcció\n",
    "\n",
    "flux=[g.subs({x:0, y:0}) for g in gradient_T]                #Aqui hem agafat el gradient i hem substituït les variables (x:0,y:0).  Aquesta direcció no està malament, pero fem millor l'unitari\n",
    "flux_mag=sp.sqrt(sum(f**2 for f in flux))                    #La suma dels quadrats de les variables ha de ser ser igual a 1 (x**2+y**2=1)\n",
    "flux_unitari=[f/flux_mag for f in flux]                      #Vector unitari\n",
    "\n",
    "\n",
    "ApartatA=\"RESULTATS DE L'APARTAT (a)\"\n",
    "Ample=80\n",
    "print()\n",
    "print(ApartatA.center(Ample))\n",
    "print(\"La temperatura del punt P(0,0) és\", T_P, \"i la direcció del flux és\", flux_unitari)    #No poso directament el vector perque queda millor imprimir-lo amb sp.pprint \n",
    "print( )         "
   ]
  },
  {
   "cell_type": "code",
   "execution_count": 5,
   "id": "416ef683-4bdc-4859-a211-fdb3fbe2c8f4",
   "metadata": {},
   "outputs": [
    {
     "name": "stdout",
     "output_type": "stream",
     "text": [
      "\n",
      "                           RESULTATS DE L'APARTAT (b)                           \n",
      "La font de calor es troba en {x: 1, y: 1} i té una temperatura 25 u\n",
      "\n"
     ]
    }
   ],
   "source": [
    "# Segon apartat\n",
    "'''El punt de temperatura màxima és aquell en que el gradient s'anul·la. He d'obtenir un valor per la variable x i un altre valor \n",
    "per la variable y, que després l'utilitzarem per saber la temperatura en aquell punt'''\n",
    "solucio=sp.solve(gradient_T, (x,y))                            #Aqui estem ressolent el sistema d'equacions que s'obté quan igualem el grandient de la temperatura a 0\n",
    "T_max=T_funcio.subs(solucio)                                   #Agafem la funció de la temperatura i la evaluem en el punt trobat en la linea d'abans\n",
    "\n",
    "ApartatB=\"RESULTATS DE L'APARTAT (b)\"\n",
    "print( )\n",
    "print(ApartatB.center(Ample))\n",
    "print(\"La font de calor es troba en\", solucio, \"i té una temperatura\", T_max, \"u\")      #L'exericicio no indica les unitats de temperatura\n",
    "print( )"
   ]
  },
  {
   "cell_type": "code",
   "execution_count": 7,
   "id": "08a2d6e0-3575-4fbd-9cfc-2e9ea23907c4",
   "metadata": {},
   "outputs": [
    {
     "name": "stdout",
     "output_type": "stream",
     "text": [
      "\n",
      "                           RESULTATS DE L'APARTAT (c)                           \n",
      "La temperatura máxima és 23.97u, i és en el punt ( sqrt(2)/2 , sqrt(2)/2)\n",
      "La temperatura mínima és 10.17u, i és en el punt ( -sqrt(2)/2 , -sqrt(2)/2 )\n",
      "\n"
     ]
    }
   ],
   "source": [
    "# Tercer apartat\n",
    "''' Com estem parlant d'una circumferència, la variable y es pot expressar en termes de l'altre variable: y = ±sqrt(1 - x^2) '''\n",
    "y_pos=sp.sqrt(1-x**2)\n",
    "y_neg=-sp.sqrt(1-x**2)\n",
    "\n",
    "''' Ara fem la funció temperatura extigui expressada només per la variable x, però tindrem dues funcions (una per cada posible valor de y) '''\n",
    "T_positiu=T_funcio.subs(y, y_pos)\n",
    "T_negatiu=T_funcio.subs(y, y_neg)\n",
    "\n",
    "''' Fem les primeres derivades, aquestes ens donaran els punts crítics '''\n",
    "dTdx_pos=sp.diff(T_positiu, x)\n",
    "dTdx_neg=sp.diff(T_negatiu, x)\n",
    "\n",
    "''' Trobar els punts crítics en la frontera '''\n",
    "x_crit_pos=sp.solve(dTdx_pos, x)\n",
    "x_crit_pos=x_crit_pos[0]\n",
    "x_crit_neg=sp.solve(dTdx_neg, x)\n",
    "x_crit_neg=x_crit_neg[0]\n",
    "\n",
    "''' Les coordenades dels punts crítics, calcular la component y '''\n",
    "y_crit_pos=sp.sqrt(1 - x_crit_pos**2)\n",
    "y_crit_neg=-sp.sqrt(1 - x_crit_neg**2)\n",
    "\n",
    "\n",
    "ApartatC=\"RESULTATS DE L'APARTAT (c)\"\n",
    "Ample=80\n",
    "print( )\n",
    "print(ApartatC.center(Ample))\n",
    "\n",
    "\n",
    "''' Segona derivada per x_crit_pos. La funció ha de ser diferent de zero, i si és negativa correspondrà a la temperatura màxima. \n",
    "Si és un valor positiu, és el punt de la planxa de menor temperatura ''' \n",
    "d2Tdx2_pos=sp.diff(dTdx_pos, x)\n",
    "punt_critic_pos=d2Tdx2_pos.subs(x, x_crit_pos)\n",
    "\n",
    "if punt_critic_pos > 0:\n",
    "    T_minima_pos = T_positiu.subs(x, x_crit_pos).evalf()\n",
    "    print(f\"La temperatura mínima és {T_minima_pos:.2f}u, i és en el punt ( {x_crit_pos} , {y_crit_pos} )\")\n",
    "elif punt_critic_pos < 0:\n",
    "    T_maxima_pos = T_positiu.subs(x, x_crit_pos).evalf()\n",
    "    print(f\"La temperatura máxima és {T_maxima_pos:.2f}u, i és en el punt ( {x_crit_pos} , {y_crit_pos })\")\n",
    "\n",
    "   \n",
    "''' Segona derivada per x_crit_negatiu, a l'igual que abans '''\n",
    "d2Tdx2_neg=sp.diff(dTdx_neg, x)\n",
    "punt_critic_neg=d2Tdx2_neg.subs(x, x_crit_neg)\n",
    "\n",
    "if punt_critic_neg > 0:\n",
    "    T_minima_neg = T_negatiu.subs(x, x_crit_neg).evalf()\n",
    "    print(f\"La temperatura mínima és {T_minima_neg:.2f}u, i és en el punt ( {x_crit_neg} , {y_crit_neg} )\")\n",
    "elif punt_critic_neg < 0:\n",
    "    T_maxima_neg = T_negatiu.subs(x, x_crit_neg).evalf()\n",
    "    print(f\"La temperatura máxima és {T_maxima_neg:.2f}u, i és en el punt ( {x_crit_neg} , {y_crit_neg} )\")\n",
    "\n",
    "print( )"
   ]
  },
  {
   "cell_type": "code",
   "execution_count": 21,
   "id": "f7d6fb3a-4d82-46a3-bd5e-b645c68f5889",
   "metadata": {},
   "outputs": [
    {
     "name": "stdout",
     "output_type": "stream",
     "text": [
      "\n",
      "S'ha definit la següent matriu de transformació en 𝑅³:\n",
      "\n",
      "                                      |  2  -1   0 |\n",
      "                                A  =  | -1   2  -1 |\n",
      "                                      |  0  -1   2 |\n",
      "\n",
      "Apartat 1: Propietats básiques de la matriu\n",
      "a) Calcula el determinant de A\n",
      "b) Calcula la traça de la matriu A\n",
      "c) Troba la inversa (si existeix)\n",
      "\n",
      "Apartat 2: Vector i valors propis\n",
      "d) Calcula els valors propis de A\n",
      "e) Calcula els vectors propis associats\n",
      "f) Ordena els valors i els vector propis\n",
      "\n",
      "Apartat 3: Diagonalització\n",
      "    - Demostra que la matriu es pot diagonalitzar\n",
      "\n",
      "Apartat 4: Operacions\n",
      "g) Fes la resta B-A, sent B:\n",
      "                                      | -5   1  -3 |\n",
      "                                B  =  | -1   0   0 |\n",
      "                                      |  0  -1  -5 |\n",
      "\n",
      "h) Eleva A al quadrat i al cub.\n",
      "\n"
     ]
    }
   ],
   "source": [
    "Exercici_matrius='''\n",
    "S'ha definit la següent matriu de transformació en 𝑅³:\n",
    "\n",
    "                                      |  2  -1   0 |\n",
    "                                A  =  | -1   2  -1 |\n",
    "                                      |  0  -1   2 |\n",
    "\n",
    "Apartat 1: Propietats básiques de la matriu\n",
    "a) Calcula el determinant de A\n",
    "b) Calcula la traça de la matriu A\n",
    "c) Troba la inversa (si existeix)\n",
    "\n",
    "Apartat 2: Vector i valors propis\n",
    "d) Calcula els valors propis de A\n",
    "e) Calcula els vectors propis associats\n",
    "f) Ordena els valors i els vector propis\n",
    "\n",
    "Apartat 3: Diagonalització\n",
    "    - Demostra que la matriu es pot diagonalitzar\n",
    "\n",
    "Apartat 4: Operacions\n",
    "g) Fes la resta B-A, sent B:\n",
    "                                      | -5   1  -3 |\n",
    "                                B  =  | -1   0   0 |\n",
    "                                      |  0  -1  -5 |\n",
    "\n",
    "h) Eleva A al quadrat i al cub.\n",
    "'''\n",
    "\n",
    "print(Exercici_matrius)"
   ]
  },
  {
   "cell_type": "code",
   "execution_count": 11,
   "id": "c3494445-55ba-4700-96a3-78c2cde815fd",
   "metadata": {},
   "outputs": [
    {
     "name": "stdout",
     "output_type": "stream",
     "text": [
      "--------------------APARTAT A---------------------\n",
      "\n",
      "a) El determinant dona 4.0\n",
      "\n",
      "b) La traça de la matriu és 6\n",
      "\n",
      "c) La inversa de la matriu és\n",
      "[[0.75 0.5  0.25]\n",
      " [0.5  1.   0.5 ]\n",
      " [0.25 0.5  0.75]]\n"
     ]
    }
   ],
   "source": [
    "# Primer cal definir la matriu A\n",
    "A=np.array([[2,-1,0] , [-1,2,-1] , [0,-1,2]])        #Els vectors es posen en columnes, de manera que queda una matriu 3x3\n",
    "\n",
    "\n",
    "''' APARTAT A '''\n",
    "determinant=np.linalg.det(A)           # Primer faré el determinant de la matriu\n",
    "traça=np.trace(A)                      # Ara la traça de la matriu\n",
    "inversa=np.linalg.inv(A)               # Això dona la inversa de la matriu\n",
    "\n",
    "# Pasem a imprimir tots els resultats de l'apartat\n",
    "print(\"APARTAT A\".center(50,\"-\"))\n",
    "print( )\n",
    "print(\"a) El determinant dona\", determinant)\n",
    "print( )\n",
    "print(\"b) La traça de la matriu és\", traça)\n",
    "print( )\n",
    "print(\"c) La inversa de la matriu és\")\n",
    "print(inversa)"
   ]
  },
  {
   "cell_type": "code",
   "execution_count": 13,
   "id": "6bd383c7-1dcd-470e-9e29-0d116ab51ff2",
   "metadata": {},
   "outputs": [
    {
     "name": "stdout",
     "output_type": "stream",
     "text": [
      "--------------------APARTAT B---------------------\n",
      "\n",
      "Estat propi 0\n",
      "Valor propi: 3.4142135623730923\n",
      "Vector propi: [-0.5         0.70710678 -0.5       ]\n",
      "\n",
      "Estat propi 1\n",
      "Valor propi: 2.0\n",
      "Vector propi: [-7.07106781e-01  5.09486455e-16  7.07106781e-01]\n",
      "\n",
      "Estat propi 2\n",
      "Valor propi: 0.5857864376269046\n",
      "Vector propi: [0.5        0.70710678 0.5       ]\n",
      "\n"
     ]
    }
   ],
   "source": [
    "''' APARTAT B '''\n",
    "valors_propis, vectors_propis=np.linalg.eig(A)              # Podem calcular els valors i vector propis directament\n",
    "estats_propis=list(zip(valors_propis,vectors_propis.T))     # Posem el vector propi a cada valor propi i aquests vector propis els hem fet la transposada (en comptes de columna, passen a ser una linea)\n",
    "estats_propis.sort(key=lambda x: x[0])                      # Ordena la llista però segons els valors propis\n",
    "\n",
    "# Pasem a imprimir tots els resultats de l'apartat\n",
    "print(\"APARTAT B\".center(50,\"-\"))\n",
    "print( )\n",
    "for k in range(len(estats_propis)):                         # És un bucle que primer agafa tots els estats propis i els dona un index que el marca com k (si son 3 estats propis, k = 0,1,2 )\n",
    "    print(f\"Estat propi {k}\")\n",
    "    print(f\"Valor propi: {valors_propis[k]}\")\n",
    "    print(f\"Vector propi: {vectors_propis[:,k]}\")\n",
    "    print( )"
   ]
  },
  {
   "cell_type": "code",
   "execution_count": 15,
   "id": "d4d2f239-d58d-40c7-8370-cf4e003965a8",
   "metadata": {},
   "outputs": [
    {
     "name": "stdout",
     "output_type": "stream",
     "text": [
      "--------------------APARTAT C---------------------\n",
      "\n",
      "Matriu de vectors propis (P):\n",
      "[[-5.00000000e-01 -7.07106781e-01  5.00000000e-01]\n",
      " [ 7.07106781e-01  5.09486455e-16  7.07106781e-01]\n",
      " [-5.00000000e-01  7.07106781e-01  5.00000000e-01]]\n",
      "\n",
      "Matriu diagonal (D):\n",
      "[[3.41421356 0.         0.        ]\n",
      " [0.         2.         0.        ]\n",
      " [0.         0.         0.58578644]]\n",
      "\n",
      "Matriu reconstruida amb la formula (A):\n",
      "[[ 2. -1. -0.]\n",
      " [-1.  2. -1.]\n",
      " [-0. -1.  2.]]\n"
     ]
    }
   ],
   "source": [
    "''' APARTAT C '''\n",
    "P=vectors_propis                   # Matriu dels vectors propis\n",
    "D=np.diag(valors_propis)           # Matriu diagonal amb els valors propis\n",
    "\n",
    "#Comprovem que es pot diagonlitzar A = P D P^(-1)\n",
    "P_inversa=np.linalg.inv(P)         # P^(-1)\n",
    "A_diagonalitzacio=P@D@P_inversa    # Multiplicació matricial, és la manera de comprovar que A és diagonalitzable\n",
    "A_diagonalitzacio_aprox=np.round(A_diagonalitzacio, decimals=10)\n",
    "\n",
    "# Pasem a imprimir tots els resultats de l'apartat\n",
    "print(\"APARTAT C\".center(50,\"-\"))\n",
    "print( )\n",
    "print(\"Matriu de vectors propis (P):\")\n",
    "print(P)\n",
    "print(\"\\nMatriu diagonal (D):\")\n",
    "print(D)\n",
    "print(\"\\nMatriu reconstruida amb la formula (A):\")\n",
    "print(A_diagonalitzacio_aprox)"
   ]
  },
  {
   "cell_type": "code",
   "execution_count": 17,
   "id": "95d280f3-b285-4af1-a93a-5b127ac68167",
   "metadata": {},
   "outputs": [
    {
     "name": "stdout",
     "output_type": "stream",
     "text": [
      "g) La resta de les dues matrius dona\n",
      "[[ 7  0  0]\n",
      " [-2  2  0]\n",
      " [ 3 -1  7]]\n",
      "\n",
      "i) El quadrat de la matriu, fent una multiplicació matricial, i no elevant al quadrat els elements com A**2, és\n",
      "[[ 5 -4  1]\n",
      " [-4  6 -4]\n",
      " [ 1 -4  5]]\n",
      "En canvi el cub de la matriu és\n",
      "[[ 14 -14   6]\n",
      " [-14  20 -14]\n",
      " [  6 -14  14]]\n"
     ]
    }
   ],
   "source": [
    "''' APARTAT D '''\n",
    "# Defineixo la matriu B com ho he fet amb la matriu A en el primer apartat\n",
    "B=np.array([[-5,-1,0] , [1,0,-1] , [-3,0,-5]]) \n",
    "\n",
    "#Operacions \n",
    "restaAB=A-B                #Resta, si fos suma només caldria posar +\n",
    "quadrat=np.matmul(A,A)     #També es pot fer A@A o np.linalg.matrix_power(A,\"c\") on \"c\" es la potencia que podem utilitzar aquesta comanda per fer el cub\n",
    "cub=np.linalg.matrix_power(A, 3)\n",
    "\n",
    "\n",
    "\n",
    "print(\"g) La resta de les dues matrius dona\")\n",
    "print(restaAB)\n",
    "print( )\n",
    "print(\"i) El quadrat de la matriu, fent una multiplicació matricial, i no elevant al quadrat els elements com A**2, és\")\n",
    "print(quadrat)\n",
    "print(\"En canvi el cub de la matriu és\")\n",
    "print(cub)"
   ]
  }
 ],
 "metadata": {
  "kernelspec": {
   "display_name": "Python [conda env:base] *",
   "language": "python",
   "name": "conda-base-py"
  },
  "language_info": {
   "codemirror_mode": {
    "name": "ipython",
    "version": 3
   },
   "file_extension": ".py",
   "mimetype": "text/x-python",
   "name": "python",
   "nbconvert_exporter": "python",
   "pygments_lexer": "ipython3",
   "version": "3.12.7"
  }
 },
 "nbformat": 4,
 "nbformat_minor": 5
}
