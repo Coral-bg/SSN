{
 "cells": [
  {
   "cell_type": "markdown",
   "id": "236188b8-ad87-4eea-bde4-3f791883aec8",
   "metadata": {
    "jp-MarkdownHeadingCollapsed": true
   },
   "source": [
    "# 1.- Revisar els exemples del mètode numèric proposat per R. Feynmann per a resoldre les equacions  del moviment i la seva implementació en python (script o Google Colab) així com el material  discutit a classe durant aquesta setmana."
   ]
  },
  {
   "cell_type": "markdown",
   "id": "8bac3b09-af34-4b9c-acd8-308d9e60980d",
   "metadata": {},
   "source": [
    "### a) Escriure les equacions que descriuen l'evolució de la posició i de la velocitat en aquest mètode  (en general, no per un exemple específic) i compareu-les amb les equacions corresponents al  mètode de velocity Verlet.\n"
   ]
  },
  {
   "cell_type": "markdown",
   "id": "b4510ded-6f64-4b27-bf5d-100dd5c55762",
   "metadata": {},
   "source": [
    "#### Mètode de Feynman  \n",
    "\n",
    "La peculiaritat del mètode de Feynman és la seva forma de calcular la velocitat; s'utilitza la velocitat en mig dels \n",
    "intervals de temps dt. A partir d'aquesta velocitat es calcula la posició aplicant el diferencial de temps complet, t+dt.\n",
    "\n",
    "Per la velocitat es fa servir l'acceleració i dt/2, en canvi, la posició es càlcula fent servir la velocitat a meitat de \n",
    "l'interval. Les equacions queden de la següent manera:\n",
    "$$ \n",
    "v_{hk} = v(0) + \\frac{dt}{2} \\cdot a \n",
    "$$\n",
    "$$ \n",
    "x(1) = x(0) + dt \\cdot v_{hk} \n",
    "$$\n",
    "\n",
    "\n",
    "Per conèixer els valors de velocitat i posició en qualsevol punt, se substitueix v(0) i x(0) pel pas anterior al que volíem calcular;\n",
    "$$ \n",
    "v_{hk} = v_{hk} + dt \\cdot a \n",
    "$$\n",
    "$$ \n",
    "x(i+1) = x(i) + dt \\cdot v_{hk} \n",
    "$$"
   ]
  },
  {
   "cell_type": "markdown",
   "id": "517bde03-feaa-4954-b066-5e42c49211c5",
   "metadata": {},
   "source": [
    "#### Velocity Verlet\n",
    "\n",
    "Les equacions són ben diferents utilitzant aquest mètode, ja que es calcula la velocitat tenint en compte tot l'interval de temps, igual que fem per l'equació de la posició. Es fa a partir de l'acceleració mitjana de l'interval, que gràcies a la segona llei de Newton, permet definir la velocitat. \n",
    "\n",
    "Acceleració mitjana:\n",
    "        $$\n",
    "        a_m = \\frac{a(i-1)+a(i)}{2}\n",
    "        $$\n",
    "\n",
    "\n",
    "Aquestes derivacions donen lloc a les següents equacions\n",
    "$$\n",
    "x(i) = x(i-1)+ v(i-1) \\cdot dt+ \\frac {a(i-1)}{2}\\cdot dt^2\n",
    "$$\n",
    "\n",
    "$$\n",
    "v(i) = v(i-1)+dt\\cdot a_m\n",
    "$$\n",
    "\n",
    "A diferència del mètode de Feynman que utilitza la velocitat a mig camí, en aquest cas es fa servir les equacions corresponents a un moviment rectilini uniformement accelerat, però tenint en compte l'acceleració mitjana en l'equació de la velocitat."
   ]
  },
  {
   "cell_type": "markdown",
   "id": "7192f80f-0df6-4fbe-a48e-5c1f91e0f746",
   "metadata": {},
   "source": [
    "### b) En el programa d'exemple del mètode de Velocity Verlet (i en el del mètode d'Euler també) en cada pas de temps dt avaluem l'energia total (potencial i cinètica) per tal de verificar la conservació  de l'energia. En canvi, això no està implementat en els exemples del mètode proposat per Feynmann. Perquè? Proposa una modificació que implementi aquest càlcul."
   ]
  },
  {
   "cell_type": "markdown",
   "id": "c6acf29f-b67f-4176-af0a-4ebf2b165544",
   "metadata": {},
   "source": [
    "En el métode Feynman no es pot calcular l'energia del sistema en cada pas perquè la posició (x) i la velocitat (v) són parámetres evaluats en diferents instants de temps. Pel mètode de Velosity Verlet i en el del mètode d'Euler es calcula l'energia en cada pas per verificar la conservació de l'energia, és possible fer-ho perque aquets mètodes sí que evaluem els parametres esmentats en el mateix instant de temps. \n",
    "\n",
    "Pel mètode de Feynman no caldria evaluar en cada pas la conservació d'energia perquè les equacions estan plantejades de manera que no hagi problemes amb el reversibilitat temporal. Tot i així, si representem gràficament l'energia total del sistema, s'observa que l'error no s'acumula pas a pas, sinó que l'energia oscil·la: primer disminueix fins a un mínim i després torna a pujar fins al seu valor inicial, seguint una funció trigonomètrica.\n",
    "\n",
    "A continuació es presenta el codi d'un moviment harmònic fent ús del mètode de Feynman amb un apartat on es representa l'energia.\n"
   ]
  },
  {
   "cell_type": "code",
   "execution_count": 86,
   "id": "373cb22c-285e-4fa2-b4ff-94f441cd0c43",
   "metadata": {
    "jupyter": {
     "source_hidden": true
    }
   },
   "outputs": [
    {
     "name": "stdout",
     "output_type": "stream",
     "text": [
      "El temps de simulació serà de 5.0 segons\n",
      "A temps 0, la posició x serà 1.0 , la velocitat v serà 0.0 i l'acceleració serà -1.0\n",
      "La velocitat a mig camí és -0.05\n",
      "step 1 , x= 0.995  i a= -0.995\n",
      "Step 2  t=  0.2  x= 0.98\n",
      "Step 3  t=  0.3  x= 0.955\n",
      "Step 4  t=  0.4  x= 0.921\n",
      "Step 5  t=  0.5  x= 0.877\n",
      "Step 6  t=  0.6  x= 0.825\n",
      "Step 7  t=  0.7  x= 0.765\n",
      "Step 8  t=  0.8  x= 0.696\n",
      "Step 9  t=  0.9  x= 0.621\n",
      "Step 10  t=  1.0  x= 0.54\n",
      "Step 11  t=  1.1  x= 0.453\n",
      "Step 12  t=  1.2  x= 0.362\n",
      "Step 13  t=  1.3  x= 0.267\n",
      "Step 14  t=  1.4  x= 0.169\n",
      "Step 15  t=  1.5  x= 0.07\n",
      "Step 16  t=  1.6  x= -0.03\n",
      "Step 17  t=  1.7  x= -0.13\n",
      "Step 18  t=  1.8  x= -0.228\n",
      "Step 19  t=  1.9  x= -0.324\n",
      "Step 20  t=  2.0  x= -0.417\n",
      "Step 21  t=  2.1  x= -0.506\n",
      "Step 22  t=  2.2  x= -0.589\n",
      "Step 23  t=  2.3  x= -0.667\n",
      "Step 24  t=  2.4  x= -0.738\n",
      "Step 25  t=  2.5  x= -0.802\n",
      "Step 26  t=  2.6  x= -0.857\n",
      "Step 27  t=  2.7  x= -0.905\n",
      "Step 28  t=  2.8  x= -0.943\n",
      "Step 29  t=  2.9  x= -0.971\n",
      "Step 30  t=  3.0  x= -0.99\n",
      "Step 31  t=  3.1  x= -0.999\n",
      "Step 32  t=  3.2  x= -0.998\n",
      "Step 33  t=  3.3  x= -0.987\n",
      "Step 34  t=  3.4  x= -0.966\n",
      "Step 35  t=  3.5  x= -0.936\n",
      "Step 36  t=  3.6  x= -0.896\n",
      "Step 37  t=  3.7  x= -0.847\n",
      "Step 38  t=  3.8  x= -0.79\n",
      "Step 39  t=  3.9  x= -0.725\n",
      "Step 40  t=  4.0  x= -0.652\n",
      "Step 41  t=  4.1  x= -0.573\n",
      "Step 42  t=  4.2  x= -0.489\n",
      "Step 43  t=  4.3  x= -0.399\n",
      "Step 44  t=  4.4  x= -0.306\n",
      "Step 45  t=  4.5  x= -0.209\n",
      "Step 46  t=  4.6  x= -0.11\n",
      "Step 47  t=  4.7  x= -0.01\n",
      "Step 48  t=  4.8  x= 0.089\n",
      "Step 49  t=  4.9  x= 0.189\n",
      "Step 50  t=  5.0  x= 0.286\n"
     ]
    },
    {
     "data": {
      "image/png": "[encoded data removed]",
      "text/plain": [
       "<Figure size 640x480 with 1 Axes>"
      ]
     },
     "metadata": {},
     "output_type": "display_data"
    }
   ],
   "source": [
    "#Llibreries\n",
    "import numpy as np\n",
    "import matplotlib.pyplot as plt\n",
    "\n",
    "#Característiques de la partícula\n",
    "m=1.0                               #Massa\n",
    "T=1.0                               #Periode en nanosegons\n",
    "w=2.0*np.pi/T                       #Freqüència\n",
    "k=m*w*w                             #Constant de força\n",
    "\n",
    "#Condicions inicials (posició, velocitat i energia inicial)\n",
    "x_0=1.0\n",
    "v_0=0.0\n",
    "E_0=(m/2.0)*v_0*v_0+(k/2)*x_0*x_0\n",
    "\n",
    "#Intervals de temps on la acceleració és constant\n",
    "dt=0.1\n",
    "ntot=50\n",
    "print(\"El temps de simulació serà de\", dt*ntot, \"segons\")\n",
    "\n",
    "#Iniciem les simulacions posant tot a 0 (posicio, velocitat i temps)\n",
    "x=np.zeros(ntot+1)\n",
    "v=np.zeros(ntot+1)\n",
    "t=np.zeros(ntot+1)\n",
    "\n",
    "#Condicions inicials\n",
    "t[0]=0.0\n",
    "x[0]=x_0\n",
    "v[0]=v_0\n",
    "\n",
    "a=-x[0]\n",
    "\n",
    "print(\"A temps 0, la posició x serà\", x[0], \", la velocitat v serà\", v[0], \"i l'acceleració serà\", a)\n",
    "\n",
    "#Càlcul de la velocitat a meitat de l'interval\n",
    "v_hk=v[0]+(dt/2.0)*a\n",
    "print(\"La velocitat a mig camí és\", v_hk)\n",
    "\n",
    "#Nova posició i acceleració en el primer pas amb temps t+dt\n",
    "x[1]=x[0]+dt*v_hk\n",
    "t[1]=t[0]+dt\n",
    "a=-x[1]\n",
    "i=1\n",
    "print(\"step\",i,\", x=\",x[i],\" i a=\",a)\n",
    "\n",
    "#Fem un bucle per fer cada pas que sigui i<ntot, és a dir, 50 steps. Es calcula l'acceleracio, la velocitat i la posició en funcio del temps t+dt\n",
    "while i<ntot:\n",
    "    #L'acceleració a la posició actual\n",
    "    a=-x[i]\n",
    "    #Canvi de velocitat de t-dt/2 a t+dt/2\n",
    "    v_hk=v_hk+a*dt\n",
    "    #Nova posició a t+dt\n",
    "    x[i+1]=x[i]+dt*v_hk\n",
    "    #Actualitzar el temps\n",
    "    t[i+1]=t[i]+dt\n",
    "    #Actualitzar el contador\n",
    "    i=i+1\n",
    "    #Imprimir els resultats\n",
    "    print('Step',i,' t= ',round(t[i],3),' x=',round(x[i],3))        #Els resultats concideixen amb els valors donats per Feynman\n",
    "\n",
    "\n",
    "#Energia corresponent a cada pas\n",
    "E=(m/2.0)*v_hk*v_hk+(k/2)*x*x\n",
    "#Relació energia de cada pas amb energia inicial (E/E0)\n",
    "RE=E/E_0\n",
    "#Construim la gràfica\n",
    "plt.plot(t,RE,'k')\n",
    "plt.xlabel('time (ns)')\n",
    "plt.ylabel('E/E0')\n",
    "#Mostrar la gràfica\n",
    "plt.show()"
   ]
  },
  {
   "cell_type": "markdown",
   "id": "d093027c-1456-493c-a7dd-5afc6a6adffc",
   "metadata": {},
   "source": [
    "A llarg termini l'energia es conserva per la simetria"
   ]
  },
  {
   "cell_type": "markdown",
   "id": "bd947152-0a68-4aee-820d-37dcfce69c81",
   "metadata": {
    "jp-MarkdownHeadingCollapsed": true
   },
   "source": [
    "### c) Compara la modificació proposada a (b) amb el mètode de Velocity Verlet.\n"
   ]
  },
  {
   "cell_type": "code",
   "execution_count": 92,
   "id": "d89005d5-f246-4052-b9c6-1168221bc36d",
   "metadata": {
    "jupyter": {
     "source_hidden": true
    }
   },
   "outputs": [
    {
     "name": "stdout",
     "output_type": "stream",
     "text": [
      "step 1  t=  0.0  x= 0.0\n",
      "step 2  t=  0.0  x= 0.0\n",
      "step 3  t=  0.0  x= 0.0\n",
      "step 4  t=  0.0  x= 0.0\n",
      "step 5  t=  0.0  x= 0.0\n",
      "step 6  t=  0.0  x= 0.0\n",
      "step 7  t=  0.0  x= 0.0\n",
      "step 8  t=  0.0  x= 0.0\n",
      "step 9  t=  0.0  x= 0.0\n",
      "step 10  t=  0.0  x= 0.0\n",
      "step 11  t=  0.0  x= 0.0\n",
      "step 12  t=  0.0  x= 0.0\n",
      "step 13  t=  0.0  x= 0.0\n",
      "step 14  t=  0.0  x= 0.0\n",
      "step 15  t=  0.0  x= 0.0\n",
      "step 16  t=  0.0  x= 0.0\n",
      "step 17  t=  0.0  x= 0.0\n",
      "step 18  t=  0.0  x= 0.0\n",
      "step 19  t=  0.0  x= 0.0\n",
      "step 20  t=  0.0  x= 0.0\n",
      "step 21  t=  0.0  x= 0.0\n",
      "step 22  t=  0.0  x= 0.0\n",
      "step 23  t=  0.0  x= 0.0\n",
      "step 24  t=  0.0  x= 0.0\n",
      "step 25  t=  0.0  x= 0.0\n",
      "step 26  t=  0.0  x= 0.0\n",
      "step 27  t=  0.0  x= 0.0\n",
      "step 28  t=  0.0  x= 0.0\n",
      "step 29  t=  0.0  x= 0.0\n",
      "step 30  t=  0.0  x= 0.0\n",
      "step 31  t=  0.0  x= 0.0\n",
      "step 32  t=  0.0  x= 0.0\n",
      "step 33  t=  0.0  x= 0.0\n",
      "step 34  t=  0.0  x= 0.0\n",
      "step 35  t=  0.0  x= 0.0\n",
      "step 36  t=  0.0  x= 0.0\n",
      "step 37  t=  0.0  x= 0.0\n",
      "step 38  t=  0.0  x= 0.0\n",
      "step 39  t=  0.0  x= 0.0\n",
      "step 40  t=  0.0  x= 0.0\n",
      "step 41  t=  0.0  x= 0.0\n",
      "step 42  t=  0.0  x= 0.0\n",
      "step 43  t=  0.0  x= 0.0\n",
      "step 44  t=  0.0  x= 0.0\n",
      "step 45  t=  0.0  x= 0.0\n",
      "step 46  t=  0.0  x= 0.0\n",
      "step 47  t=  0.0  x= 0.0\n",
      "step 48  t=  0.0  x= 0.0\n",
      "step 49  t=  0.0  x= 0.0\n",
      "step 50  t=  0.0  x= 0.0\n"
     ]
    },
    {
     "data": {
      "image/png": "[encoded data removed]",
      "text/plain": [
       "<Figure size 640x480 with 1 Axes>"
      ]
     },
     "metadata": {},
     "output_type": "display_data"
    }
   ],
   "source": [
    "#Es la mateixa particula, mateixa massa, període, freqüència i constant de força. També tenim les mateixes condicios inicials\n",
    "m = 1.0\n",
    "T = 1.0\n",
    "w = 2.0*np.pi/T\n",
    "k=m*w*w\n",
    "\n",
    "x0=1.0\n",
    "v0=0.0\n",
    "E0=(m/2.0)*v0*v0+(k/2)*x0*x0\n",
    "\n",
    "\n",
    "dt=0.1       #Diferencial de temps\n",
    "ntot=50      #Passos totals\n",
    "\n",
    "t = np.zeros(ntot+1)\n",
    "x = np.zeros(ntot+1)\n",
    "v = np.zeros(ntot+1)\n",
    "a = np.zeros(ntot+1)\n",
    "\n",
    "#Condicions incials\n",
    "x[0] = x0\n",
    "v[0] = v0\n",
    "f = -k*x[0]\n",
    "a[0] = f/m\n",
    "\n",
    "\n",
    "#Evolució temporal\n",
    "for i in range(1,ntot+1):\n",
    "    print(\"step\",i,' t= ',round(t[i],3),' x=',round(x[i],3))\n",
    "    t[i] = t[i-1]+dt                                         # Actualitzar temps\n",
    "    x[i] = x[i-1]+v[i-1]*dt+(1.0/2.0)*a[i-1]*dt*dt           # Nova posició\n",
    "    f = -k*x[i]                                              # Força a la nova posició\n",
    "    a[i] = f/m                                               # Càlcul acceleració\n",
    "\n",
    "    # Velocitat a la nova posició\n",
    "    am=(a[i-1]+a[i])/2.0\n",
    "    v[i]= v[i-1]+am*dt\n",
    "\n",
    "    #Actualitzar temps\n",
    "    t[i] = t[i-1]+dt\n",
    "\n",
    "\n",
    "#Energia a tots els passos\n",
    "E=(m/2.0)*v*v+(k/2)*x*x\n",
    "#Energia relativa (E/E0)\n",
    "RE=E/E0\n",
    "#Fem la gràfica de la relació d'energies respecte el temps\n",
    "plt.plot(t,RE,'k')\n",
    "plt.xlabel('time (ns)')\n",
    "plt.ylabel('E/E0')\n",
    "#Mostrar la gràfica\n",
    "plt.show()"
   ]
  },
  {
   "cell_type": "markdown",
   "id": "5fe342de-44e6-402c-89e1-6c05770a8801",
   "metadata": {},
   "source": [
    "Com en el cas anterior l'energia es conserva per simetria, tot i que hi ha petites variacions al llarg del temps perquè fem una mitjana de l'acceleració que no és del tot exacta. "
   ]
  },
  {
   "cell_type": "markdown",
   "id": "99e1759e-e187-4d95-956b-98f41a133068",
   "metadata": {
    "jp-MarkdownHeadingCollapsed": true
   },
   "source": [
    "#  2.- Escriviu l'equació d'Schrödinger en unitats SI i en unitats atòmiques per un exemple que hagiu estudiat en les assignatures prèvies (per exemple, a Fenòmens Quantics I, II o a qualsevol altre). Podeu revisar la definició d'unitats atòmiques en qualsevol dels links sobre aquestes unitats que teniu al Campus Virtual (per exemple el link a Libre Text) o bé dels vostres apunts d'altres assignatures."
   ]
  },
  {
   "cell_type": "markdown",
   "id": "b0bf8452-c060-4a68-83e7-5766c46d9957",
   "metadata": {},
   "source": [
    "## Exercici: Unitats atòmiques i l'equació de Schrödinger\n",
    "En mecànica quàntica, sovint s'utilitzen unitats atòmiques (u.a.) per simplificar els càlculs eliminant constants fonamentals. En aquest sistema la massa de l'electró, la seva càrrega i la constant de Planck reduïda es defineixen com a 1. A més, la constant 4·π·ε_0 es defineix 1 també.\n",
    "\n",
    "Resol els següents apartats:"
   ]
  },
  {
   "cell_type": "markdown",
   "id": "a3f0ac1f-5be2-4c9d-b65a-dfd688a11b00",
   "metadata": {},
   "source": [
    "#### a) Demostra que la longitud de Bohr (𝑎_0), que representa l'escala natural de distància en els àtoms d'hidrogen, és aproximadament 0.529 Å en unitats del SI. Com seria en unitats atòmiques?"
   ]
  },
  {
   "cell_type": "markdown",
   "id": "4711ca00-9e30-4936-bdb6-9c01ac4420ca",
   "metadata": {},
   "source": [
    "##### Unitats del SI\n",
    "La longitud de Bohr es defineix de la següent manera:\n",
    "$$\n",
    "a_{0} = \\frac{4\\pi \\varepsilon_0 \\hbar^2}{m_e e^2}\n",
    "$$\n",
    "\n",
    "Pel sistema internacional hem de substituir els valors en unitats del SI:\n"
   ]
  },
  {
   "cell_type": "code",
   "execution_count": 133,
   "id": "5ae182f7-16cc-46e0-82a7-dd4854e1fe4a",
   "metadata": {
    "jupyter": {
     "source_hidden": true
    }
   },
   "outputs": [
    {
     "name": "stdout",
     "output_type": "stream",
     "text": [
      "La longitud de Bohr utilitzant el SI és 0.529 Angstrom\n",
      "La longitud de Borh en unitats atòmiques és 1\n"
     ]
    }
   ],
   "source": [
    "#Constants en unitats del SI per substituir directament per obtenir la longitud de Bohr\n",
    "h_barra=1.055*10**(-34)           #Joules per segon (J·s)\n",
    "m_e=9.109*10**(-31)               #En kg\n",
    "e=1.602*10**(-19)                 #Càrrega de l'electró en C\n",
    "pi_permibuit=1.112*10**(-10)     #4*pi*permitivitat del buit (F/m)\n",
    "\n",
    "#Càlcul de la longitud de Bohr en metres\n",
    "a_0=(pi_permibuit * (1.055*10**(-34))**2)/(9.109*10**(-31) * (1.602*10**(-19))**2)\n",
    "\n",
    "#Passem la longitud de Bohr en Ángstrom\n",
    "a_0_A=a_0*10**10\n",
    "print(f\"La longitud de Bohr utilitzant el SI és {a_0_A:.3g} Angstrom\")\n",
    "\n",
    "\n",
    "#Si volem en unitats atòmiques, cal substituir les coses per les dades de l'enunciat\n",
    "a_0_at=(1*(1)**2)/(1*(1)**2)\n",
    "print(f\"La longitud de Borh en unitats atòmiques és {a_0_at:.3g}\")"
   ]
  },
  {
   "cell_type": "markdown",
   "id": "eefdd912-fe6c-4bbd-a51c-ce647eab8b85",
   "metadata": {},
   "source": [
    "#### b) Escriu l'equació de Schrödinger per a l'àtom d'hidrogen en unitats SI i en unitats atòmiques. "
   ]
  },
  {
   "cell_type": "markdown",
   "id": "de87a80a-2167-4231-9e3e-c8546d83a598",
   "metadata": {},
   "source": [
    "L'equació de Schrödinger per l'àtom d'hidrogen en unitats SI és:\n",
    "$$\n",
    "(-\\frac{\\hbar^2}{2 m_e}\\nabla^2  -\\frac{e^2}{4\\pi \\varepsilon_0 r}) \\psi(r) = E \\psi(r)\n",
    "$$\n",
    "\n",
    "Cal substituir-ho amb les definicions de l'enunciat:\n",
    "$$\n",
    "(- \\frac{1}{2} \\nabla^2 - \\frac{1}{r}) \\psi(r) = E \\psi(r)\n",
    "$$\n",
    "\n",
    "L'equació és molt més senzilla perquè totes les constants desapareixen. Aquest és el gran avantatge de les unitats atòmiques."
   ]
  },
  {
   "cell_type": "markdown",
   "id": "0d098698-3815-40ee-8a97-5db8eaf7263a",
   "metadata": {},
   "source": [
    "#### c) Calcula l'energia de l'estat fonamental de l'àtom d'hidrogen en unitats atòmiques i converteix-la a electrovolts (eV)."
   ]
  },
  {
   "cell_type": "markdown",
   "id": "59d97e20-256a-4ae6-b673-8235e244a4ed",
   "metadata": {},
   "source": [
    "Es pot deduir l'energia de l'estat fonamental de l'àtom d'H en unitats atòmiques a partir dels resultats obtinguts en els apartats anteriors. En el primer s'ha demostrat que la longitud de Bohr és 1 en aquestes unitats, i podem substituir-ho en l'equació de Schrödinger en unitats atòmiques de l'apartat b). \n",
    "\n",
    "Tot el que és dins del parèntesi de l'esquerra de l'igual, es queda com -\\frac{1}{2}, que correspon també a l'energia fonamental. Així doncs, l'energia en Hartrees és:\n",
    "$$\n",
    "E_1=-\\frac{1}{2}     \n",
    "$$\n",
    "\n",
    "Per convertir-ho en electrovolts utilitzem el factor de conversió:  1 Hartree = 27.221 eV"
   ]
  },
  {
   "cell_type": "code",
   "execution_count": 205,
   "id": "31fe9f6e-bb0b-4e57-a883-1744b033d996",
   "metadata": {
    "jupyter": {
     "source_hidden": true
    }
   },
   "outputs": [
    {
     "name": "stdout",
     "output_type": "stream",
     "text": [
      "L'energia de l'estat fonamental és -13.6eV\n"
     ]
    }
   ],
   "source": [
    "hartree_eV=27.211     #Factor de conversió\n",
    "E_1=-0.5              #Energia fonamental unitats atòmiques\n",
    "\n",
    "E_1_eV=E_1*hartree_eV\n",
    "print(f\"L'energia de l'estat fonamental és {E_1_eV: .3g}eV\")\n"
   ]
  },
  {
   "cell_type": "markdown",
   "id": "00e6caf5-09e3-4ed7-9955-47d553a8d146",
   "metadata": {},
   "source": [
    "#### d) Fent servir unitats atòmiques, estima la velocitat d’un electró en l'estat fonamental de l'àtom d'hidrogen i expressa-la com una fracció de la velocitat de la llum."
   ]
  },
  {
   "cell_type": "markdown",
   "id": "763d0df3-0fb4-4226-801d-66fbe52a0a38",
   "metadata": {},
   "source": [
    "La velocitat d'electró en l'estat fonamental es pot escriure com:\n",
    "$$\n",
    "v=\\frac{e^2}{4\\pi \\varepsilon_0 \\hbar}\n",
    "$$\n",
    "\n",
    "Cal calcular-ho i comparar-ho amb la velocitat de la llum $2.99792·10^8 m/s$"
   ]
  },
  {
   "cell_type": "code",
   "execution_count": 203,
   "id": "3e11b483-2c72-43c5-b6bb-1003bc6fd735",
   "metadata": {
    "jupyter": {
     "source_hidden": true
    }
   },
   "outputs": [
    {
     "name": "stdout",
     "output_type": "stream",
     "text": [
      "La velocitat d'electró en l'estat fonamental és  2.188e+06 m/s\n",
      "En canvi la velocitat de la llum és  2.998e+08 m/s\n",
      "\n",
      "La velocitat de l'electró en l'hidrogen és aproximadament  0.73% de la velocitat de la llum\n"
     ]
    }
   ],
   "source": [
    "#Definim la velocitat d'electró en l'estat fonamental, però amb el sistema internacional\n",
    "from scipy.constants import e, hbar, epsilon_0, pi, c\n",
    "\n",
    "v_fonamental_SI=e**2/(4*pi*epsilon_0*hbar)\n",
    "\n",
    "print(f\"La velocitat d'electró en l'estat fonamental és {v_fonamental_SI: .4g} m/s\")\n",
    "print(f\"En canvi la velocitat de la llum és {c: .4g} m/s\")\n",
    "print( )\n",
    "\n",
    "#Fracció de la velocitat de l'electró i llum\n",
    "v_c=(v_fonamental_SI/c)*100                       #Ho convertim també en un percentatge\n",
    "print(f\"La velocitat de l'electró en l'hidrogen és aproximadament {v_c: .2g}% de la velocitat de la llum\")"
   ]
  }
 ],
 "metadata": {
  "kernelspec": {
   "display_name": "Python [conda env:base] *",
   "language": "python",
   "name": "conda-base-py"
  },
  "language_info": {
   "codemirror_mode": {
    "name": "ipython",
    "version": 3
   },
   "file_extension": ".py",
   "mimetype": "text/x-python",
   "name": "python",
   "nbconvert_exporter": "python",
   "pygments_lexer": "ipython3",
   "version": "3.12.7"
  }
 },
 "nbformat": 4,
 "nbformat_minor": 5
}
